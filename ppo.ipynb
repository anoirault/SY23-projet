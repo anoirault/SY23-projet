{
 "cells": [
  {
   "cell_type": "markdown",
   "metadata": {},
   "source": [
    "# Implémentation inspiré de l'article originale\n",
    "\n",
    "Pseudo code de PPO:\n",
    "\n",
    "Pour iteration=1,2, ... faire <br>\n",
    "$\\textrm{   }\\textrm{   }\\textrm{   }\\textrm{   }$ Pour acteur=1,2,...,N faire <br>\n",
    "$\\textrm{   }\\textrm{   }\\textrm{   }\\textrm{   }$ $\\textrm{   }\\textrm{   }\\textrm{   }\\textrm{   }$  Faire tourner la politique $\\pi_{\\theta_{old}}$ pour $T$ timesteps <br>\n",
    "$\\textrm{   }\\textrm{   }\\textrm{   }\\textrm{   }$ $\\textrm{   }\\textrm{   }\\textrm{   }\\textrm{   }$  Calculer l'avantage estimé $\\hat{A}_{1}, ..., \\hat{A}_{T}$ <br>\n",
    "$\\textrm{   }\\textrm{   }\\textrm{   }\\textrm{   }$ **fin pour** <br>\n",
    "$\\textrm{   }\\textrm{   }\\textrm{   }\\textrm{   }$ Optimizer $L$ par rapport à $\\theta$, pendant $K$ epochs pour un minibatch de taille $M \\leq NT$ <br>\n",
    "$\\textrm{   }\\textrm{   }\\textrm{   }\\textrm{   }$ $\\theta_{old} := \\theta$ <br>\n",
    "**fin pour**\n",
    "\n",
    "Avec :\n",
    "* $L = \\mathbb{E}[L^{CLIP} - c1L^{VF} + c2S[\\pi_{\\theta}(s_{t})]]$\n",
    "* $L^{CLIP} = min(r_{t}\\hat{A}_{t}, clip(r_{t}), 1-\\epsilon, 1+\\epsilon)\\hat{A}_{t}$ : permet de mettre à jour les poids de la politique petit à petit, $\\epsilon$ étant un nombre petit\n",
    "* $ L^{VF} = MSE(A_{t}, \\hat{A}_{t})$ : met à jour le critic\n",
    "* $S[\\pi_{\\theta}(s_{t})]$ : un bonus d'entropy\n",
    "\n",
    "Pseudo code de [Schulman et. alii.](https://arxiv.org/pdf/1707.06347.pdf)\n",
    "\n",
    "## Import de librairie"
   ]
  },
  {
   "cell_type": "code",
   "execution_count": 1,
   "metadata": {},
   "outputs": [],
   "source": [
    "import gymnasium as gym\n",
    "\n",
    "import torch\n",
    "import torch.nn as nn\n",
    "from torch.distributions.normal import Normal\n",
    "from torch.utils.data import DataLoader, Dataset\n",
    "\n",
    "from random import shuffle\n",
    "\n",
    "import numpy as np\n",
    "\n",
    "import matplotlib.pyplot as plt"
   ]
  },
  {
   "cell_type": "markdown",
   "metadata": {},
   "source": [
    "## Définition des models"
   ]
  },
  {
   "cell_type": "markdown",
   "metadata": {},
   "source": [
    "Modèle utilisé par le critic"
   ]
  },
  {
   "cell_type": "code",
   "execution_count": 2,
   "metadata": {},
   "outputs": [],
   "source": [
    "class Regressor(nn.Module):\n",
    "    def __init__(self, inChannel:int, outChannel:int):\n",
    "        super().__init__()\n",
    "        self.inLayer = nn.Sequential(\n",
    "            nn.Linear(inChannel, 32),\n",
    "            nn.Tanh()\n",
    "        )\n",
    "        self.outLayer = nn.Sequential(\n",
    "            nn.Linear(32, outChannel)\n",
    "        )\n",
    "    def forward(self, x):\n",
    "        x = self.inLayer(x.float())\n",
    "        return self.outLayer(x)"
   ]
  },
  {
   "cell_type": "markdown",
   "metadata": {},
   "source": [
    "Modèle utilisé pour l'acteur, génère les paramètres de la distribution à utiliser pour choisir l'action"
   ]
  },
  {
   "cell_type": "code",
   "execution_count": 3,
   "metadata": {},
   "outputs": [],
   "source": [
    "class NormalDistribParam(nn.Module):\n",
    "    def __init__(self, inChannel):\n",
    "        super().__init__()\n",
    "        self.inLayer = nn.Sequential(\n",
    "            nn.Linear(inChannel, 32),\n",
    "            nn.Tanh()\n",
    "        )\n",
    "        self.muLayer = nn.Sequential(\n",
    "            nn.Linear(32, 1),\n",
    "        )\n",
    "        self.sigmaLayer = nn.Sequential(\n",
    "            nn.Linear(32, 1),\n",
    "        )\n",
    "    def forward(self, x):\n",
    "        x = self.inLayer(x.float())\n",
    "        return self.muLayer(x),torch.log(1+torch.exp(self.sigmaLayer(x)))"
   ]
  },
  {
   "cell_type": "markdown",
   "metadata": {},
   "source": [
    "Définition de l'acteur qui décidera de l'action à prendre en fonction de la *policy* aprise ainsi que le critic qui évalura la qualité de la décision prise.\n"
   ]
  },
  {
   "cell_type": "code",
   "execution_count": 4,
   "metadata": {},
   "outputs": [],
   "source": [
    "\n",
    "class Policy():\n",
    "    def __init__(self, dim_state:int, lr=1e-2):\n",
    "        self.lr = lr\n",
    "        self.reg = NormalDistribParam(inChannel=dim_state) \n",
    "        self.optim = torch.optim.Adam(self.reg.parameters(), lr=self.lr)\n",
    "        self.scheduler = torch.optim.lr_scheduler.ExponentialLR(self.optim, gamma=.9)\n",
    "\n",
    "class Critic():\n",
    "    def __init__(self, dim_state:int, lr=1e-3):\n",
    "        self.lr = lr\n",
    "        self.reg = Regressor(inChannel = dim_state, outChannel = 1)\n",
    "        self.optim = torch.optim.Adam(self.reg.parameters(), lr=self.lr)\n",
    "        self.scheduler = torch.optim.lr_scheduler.ExponentialLR(self.optim, gamma=.9)"
   ]
  },
  {
   "cell_type": "markdown",
   "metadata": {},
   "source": [
    "## Définition des fonctions utiles"
   ]
  },
  {
   "cell_type": "markdown",
   "metadata": {},
   "source": [
    "Choisi une action et l'évalue, utilisé pour générer les données d'entrainement"
   ]
  },
  {
   "cell_type": "code",
   "execution_count": 5,
   "metadata": {},
   "outputs": [],
   "source": [
    "def choose_action(policy, critic, state):\n",
    "    try:\n",
    "        state = torch.from_numpy(state)\n",
    "    except:\n",
    "        state = torch.tensor(list(state))\n",
    "    \n",
    "    mean, std = policy.reg(state)\n",
    "    \n",
    "    distrib = Normal(mean+1e-5, std+1e-5)\n",
    "\n",
    "    action = distrib.sample()\n",
    "    p = distrib.log_prob(action)\n",
    "    v = critic.reg(state)\n",
    "\n",
    "    return action.detach(), p.detach(), v.detach()"
   ]
  },
  {
   "cell_type": "markdown",
   "metadata": {},
   "source": [
    "Utilisé lors de la phase d'apprentissage, retourne les données à optimiser"
   ]
  },
  {
   "cell_type": "code",
   "execution_count": 6,
   "metadata": {},
   "outputs": [],
   "source": [
    "def evaluate(policy, critic, state, action):\n",
    "    \n",
    "    mean, std = policy.reg(state)\n",
    "    \n",
    "    distrib = Normal(mean+1e-5, std+1e-5)\n",
    "\n",
    "    p = distrib.log_prob(action)\n",
    "    v = critic.reg(state)\n",
    "    entropy = distrib.entropy()\n",
    "\n",
    "    return p, v, entropy"
   ]
  },
  {
   "cell_type": "markdown",
   "metadata": {},
   "source": [
    "évalue la policy aprise, retourne les résultats moyennés sur n jeux"
   ]
  },
  {
   "cell_type": "code",
   "execution_count": 7,
   "metadata": {},
   "outputs": [],
   "source": [
    "def test_policy(env, policy, critic, n):\n",
    "    n_iter = 0\n",
    "    r = 0\n",
    "    for _ in range(n):\n",
    "        term, trunc = False, False\n",
    "\n",
    "        state, _ = env.reset()\n",
    "\n",
    "        while (not term or trunc):\n",
    "            action, _, _ = choose_action(policy, critic, state)\n",
    "\n",
    "            state, reward, term, trunc, _ = env.step(action)\n",
    "\n",
    "            n_iter += 1\n",
    "            r += reward\n",
    "    return n_iter/n, r/n"
   ]
  },
  {
   "cell_type": "markdown",
   "metadata": {},
   "source": [
    "## Initialisation des données d'entrainement"
   ]
  },
  {
   "cell_type": "markdown",
   "metadata": {},
   "source": [
    "### Constantes"
   ]
  },
  {
   "cell_type": "code",
   "execution_count": null,
   "metadata": {},
   "outputs": [],
   "source": [
    "# Le nombre de fois où la boucle d'entrainement est répété\n",
    "iterations = 50 \n",
    "# Nombre d'épisode à jouer\n",
    "N = 100\n",
    "# mis à jour à chaque boucle, doit être inférieur à la longueur de l'épisode\n",
    "T = 3\n",
    "# Le nombre d'epochs à effectuer pour chaque itération\n",
    "epochs = 10\n",
    "\n",
    "# Utilisé pour mettre à jour T pendant l'exécution\n",
    "n_iter = 0\n",
    "\n",
    "# Discount factor\n",
    "gamma = .95\n",
    "# clip variable\n",
    "epsilon = .2\n",
    "# Le pourçentage de segment (état_n, action_n, reward_n, état_n+1) à utilisé pour l'apprentissage\n",
    "percent = .50\n",
    "\n",
    "# c1 : variable de pondération du critic dans le Loss\n",
    "# c2 : variable de pondération du bonus d'entropy dans le Loss\n",
    "c1, c2 = .01,0.0001\n",
    "\n",
    "# Nom de l'environnement à utiliser\n",
    "# env_name = \"InvertedPendulum-v4\"\n",
    "env_name = \"InvertedDoublePendulum-v4\""
   ]
  },
  {
   "cell_type": "markdown",
   "metadata": {},
   "source": [
    "### Création de l'environnement"
   ]
  },
  {
   "cell_type": "code",
   "execution_count": 9,
   "metadata": {},
   "outputs": [],
   "source": [
    "\n",
    "env = gym.make(env_name)\n",
    "\n",
    "policy = Policy(dim_state=env.observation_space.shape[0])\n",
    "critic = Critic(dim_state=env.observation_space.shape[0])\n",
    "\n",
    "mse = nn.MSELoss()"
   ]
  },
  {
   "cell_type": "markdown",
   "metadata": {},
   "source": [
    "A exécuter pour charger les poids des models pré-entrainer"
   ]
  },
  {
   "cell_type": "code",
   "execution_count": 30,
   "metadata": {},
   "outputs": [
    {
     "data": {
      "text/plain": [
       "<All keys matched successfully>"
      ]
     },
     "execution_count": 30,
     "metadata": {},
     "output_type": "execute_result"
    }
   ],
   "source": [
    "ckp_pol = torch.load(\"model-ppo/from-paper/\"+env_name+\"_pol.pt\")\n",
    "policy.reg.load_state_dict(ckp_pol[\"model\"])\n",
    "\n",
    "ckp_critic = torch.load(\"model-ppo/from-paper/\"+env_name+\"_critic.pt\")\n",
    "critic.reg.load_state_dict(ckp_critic[\"model\"])"
   ]
  },
  {
   "cell_type": "markdown",
   "metadata": {},
   "source": [
    "## Définition du *custom Dataset* de pytorch\n",
    "\n",
    "L'utilisation d'un Dataset et Dataloader permet l'apprentissage en batch de manière très simple"
   ]
  },
  {
   "cell_type": "markdown",
   "metadata": {},
   "source": [
    "### Constantes pour séparer les données de l'apprentissage"
   ]
  },
  {
   "cell_type": "code",
   "execution_count": 10,
   "metadata": {},
   "outputs": [
    {
     "name": "stdout",
     "output_type": "stream",
     "text": [
      "0 11 11 12 13 14\n"
     ]
    }
   ],
   "source": [
    "STATE_IDX_LOW = 0\n",
    "STATE_IDX_UP = env.observation_space.shape[0]\n",
    "ACTION_IDX = STATE_IDX_UP\n",
    "ADV_IDX = 1 + STATE_IDX_UP\n",
    "P_IDX = 2 + STATE_IDX_UP\n",
    "V_IDX = 3 + STATE_IDX_UP\n",
    "\n",
    "print(STATE_IDX_LOW, STATE_IDX_UP, ACTION_IDX, ADV_IDX, P_IDX, V_IDX)"
   ]
  },
  {
   "cell_type": "markdown",
   "metadata": {},
   "source": [
    "### Torch Dataset"
   ]
  },
  {
   "cell_type": "code",
   "execution_count": 11,
   "metadata": {},
   "outputs": [],
   "source": [
    "class SegmentDataset(Dataset):\n",
    "    def __init__(self, data:list, partition:float):\n",
    "      self.data = torch.cat(data[:int(len(data)*partition)], dim=0)\n",
    "\n",
    "    def __len__(self):\n",
    "        return len(self.data)\n",
    "\n",
    "    def __getitem__(self, idx):\n",
    "        old_state = self.data[idx][STATE_IDX_LOW : STATE_IDX_UP]\n",
    "        old_action = self.data[idx][ACTION_IDX]\n",
    "        old_adv = self.data[idx][ADV_IDX]\n",
    "        old_p = self.data[idx][P_IDX]\n",
    "        old_V = self.data[idx][V_IDX]\n",
    "\n",
    "        return old_state, old_action, old_adv, old_p, old_V"
   ]
  },
  {
   "cell_type": "markdown",
   "metadata": {},
   "source": [
    "## Apprentissage"
   ]
  },
  {
   "cell_type": "code",
   "execution_count": 12,
   "metadata": {},
   "outputs": [
    {
     "name": "stdout",
     "output_type": "stream",
     "text": [
      "Iter[0/50]  n_iter mean : 6.5 reward mean : 59.264964115562826\n",
      "Iter[1/50]  n_iter mean : 6.45 reward mean : 58.79502356731541\n",
      "Iter[2/50]  n_iter mean : 6.6 reward mean : 60.19859701664001\n",
      "Iter[3/50]  n_iter mean : 6.95 reward mean : 63.41026135811906\n",
      "Iter[4/50]  n_iter mean : 6.85 reward mean : 62.536077343138764\n",
      "Iter[5/50]  n_iter mean : 6.3 reward mean : 57.29085531231849\n",
      "Iter[6/50]  n_iter mean : 6.65 reward mean : 60.655724538277255\n",
      "Iter[7/50]  n_iter mean : 6.6 reward mean : 60.07834744250961\n",
      "Iter[8/50]  n_iter mean : 7.5 reward mean : 68.47072239522328\n",
      "Iter[9/50]  n_iter mean : 8.05 reward mean : 73.71356051632702\n",
      "Iter[10/50]  n_iter mean : 6.9 reward mean : 62.94176389800663\n",
      "Iter[11/50]  n_iter mean : 7.35 reward mean : 67.04946360823382\n",
      "Iter[12/50]  n_iter mean : 7.2 reward mean : 65.78520282057913\n",
      "Iter[13/50]  n_iter mean : 8.25 reward mean : 75.44180678574615\n",
      "Iter[14/50]  n_iter mean : 8.25 reward mean : 75.57414882065633\n",
      "Iter[15/50]  n_iter mean : 7.95 reward mean : 72.77644507900823\n",
      "Iter[16/50]  n_iter mean : 8.85 reward mean : 81.0843378243113\n",
      "Iter[17/50]  n_iter mean : 8.25 reward mean : 75.58871555935184\n",
      "Iter[18/50]  n_iter mean : 8.85 reward mean : 81.18725514702942\n",
      "Iter[19/50]  n_iter mean : 8.05 reward mean : 73.71610753183566\n",
      "Iter[20/50]  n_iter mean : 8.3 reward mean : 75.9606903001308\n",
      "Iter[21/50]  n_iter mean : 8.55 reward mean : 78.36211396500421\n",
      "Iter[22/50]  n_iter mean : 8.05 reward mean : 73.76807531036928\n",
      "Iter[23/50]  n_iter mean : 9.4 reward mean : 86.3230593768322\n",
      "Iter[24/50]  n_iter mean : 8.6 reward mean : 78.85005204794689\n",
      "Iter[25/50]  n_iter mean : 9.0 reward mean : 82.55939728868518\n",
      "Iter[26/50]  n_iter mean : 9.8 reward mean : 90.14562407185883\n",
      "Iter[27/50]  n_iter mean : 8.8 reward mean : 80.75289567298148\n",
      "Iter[28/50]  n_iter mean : 8.5 reward mean : 78.03110042693095\n",
      "Iter[29/50]  n_iter mean : 9.25 reward mean : 84.991557024773\n",
      "Iter[30/50]  n_iter mean : 8.95 reward mean : 82.16721023094905\n",
      "Iter[31/50]  n_iter mean : 8.8 reward mean : 80.72359536609183\n",
      "Iter[32/50]  n_iter mean : 8.65 reward mean : 79.25430382233212\n",
      "Iter[33/50]  n_iter mean : 8.1 reward mean : 74.17743080834202\n",
      "Iter[34/50]  n_iter mean : 8.35 reward mean : 76.50769438047679\n",
      "Iter[35/50]  n_iter mean : 8.85 reward mean : 81.22668613390104\n",
      "Iter[36/50]  n_iter mean : 8.7 reward mean : 79.79258802379996\n",
      "Iter[37/50]  n_iter mean : 8.3 reward mean : 76.1404919327542\n",
      "Iter[38/50]  n_iter mean : 8.2 reward mean : 75.1567490838176\n",
      "Iter[39/50]  n_iter mean : 8.7 reward mean : 79.74104989853075\n",
      "Iter[40/50]  n_iter mean : 8.9 reward mean : 81.61601676902778\n",
      "Iter[41/50]  n_iter mean : 8.7 reward mean : 79.84332819075402\n",
      "Iter[42/50]  n_iter mean : 9.05 reward mean : 83.03945244333588\n",
      "Iter[43/50]  n_iter mean : 8.7 reward mean : 79.73024379743117\n",
      "Iter[44/50]  n_iter mean : 9.1 reward mean : 83.66456651262332\n",
      "Iter[45/50]  n_iter mean : 8.35 reward mean : 76.51779462962915\n",
      "Iter[46/50]  n_iter mean : 8.2 reward mean : 75.12828322473744\n",
      "Iter[47/50]  n_iter mean : 8.45 reward mean : 77.43557451252556\n",
      "Iter[48/50]  n_iter mean : 8.55 reward mean : 78.3167183258402\n",
      "Iter[49/50]  n_iter mean : 9.15 reward mean : 84.01837658064017\n"
     ]
    },
    {
     "data": {
      "text/plain": [
       "<matplotlib.legend.Legend at 0x7f53cd95f210>"
      ]
     },
     "execution_count": 12,
     "metadata": {},
     "output_type": "execute_result"
    },
    {
     "data": {
      "image/png": "[encoded data removed]",
      "text/plain": [
       "<Figure size 640x480 with 1 Axes>"
      ]
     },
     "metadata": {},
     "output_type": "display_data"
    }
   ],
   "source": [
    "graph_r = []\n",
    "graph_iter = []\n",
    "for iteration in range(iterations):\n",
    "\n",
    "    old_buff = []\n",
    "    \n",
    "    for n_actor in range(N):\n",
    "\n",
    "        t_t = []\n",
    "        t_V = []\n",
    "        t_adv = []\n",
    "        t_reward = []\n",
    "\n",
    "        t_buff = []\n",
    "\n",
    "        term = True\n",
    "        trunc = True\n",
    "        t = 0\n",
    "        # échantillonnage\n",
    "        for timesteps in range(int(max(T, n_iter-1))):\n",
    "            t += 1\n",
    "            if term or trunc: # si l'environnement est mort, le redémarrer\n",
    "                t = 0\n",
    "                state, _ = env.reset()\n",
    "\n",
    "            action, p, v = choose_action(policy, critic, state)\n",
    "            state, reward, term, trunc, _ = env.step(action)\n",
    "\n",
    "            t_reward.append(reward)\n",
    "\n",
    "            t_t.append(t)\n",
    "            # calcul de la state action function\n",
    "            t_V.append(sum([t_reward[j]*gamma**j for j in range(timesteps-t+1, timesteps+1)]))\n",
    "            # calcul de l'avantage\n",
    "            t_adv.append(t_V[-1]-v)\n",
    "\n",
    "            state = tuple(state)\n",
    "            \n",
    "            t_buff.append([*state, action, t_V[-1]-v, p, t_V[-1]])\n",
    "\n",
    "\n",
    "        old_buff.append(torch.tensor(t_buff, dtype=torch.float32))\n",
    "\n",
    "    # mélange l'ordre des segments\n",
    "    shuffle(old_buff)\n",
    "\n",
    "    train_data = SegmentDataset(old_buff, percent)\n",
    "    train_dataloader = DataLoader(train_data, batch_size=64, shuffle=True)\n",
    "    \n",
    "    # Boucle d'apprentissage\n",
    "    for epoch in range(epochs):\n",
    "        avg_loss = 0\n",
    "        for old_state, old_action, old_adv, old_p, old_V in train_dataloader:\n",
    "\n",
    "            newP, newV, entropy = evaluate(policy, critic, old_state, old_action)\n",
    "\n",
    "            ratio = torch.exp(newP - old_p)\n",
    "\n",
    "            loss1 = ratio * old_adv\n",
    "            loss2 = torch.clamp(ratio, 1-epsilon, 1+epsilon)*old_adv\n",
    "\n",
    "            l_clip = torch.min(loss1, loss2)\n",
    "            \n",
    "            old_V = torch.unsqueeze(old_V, dim=1)\n",
    "            l_vf = mse(newV, old_V)\n",
    "\n",
    "            loss = -(l_clip - c1*l_vf + c2*entropy)\n",
    "            loss = loss.mean()\n",
    "            policy.optim.zero_grad()\n",
    "            critic.optim.zero_grad()\n",
    "            loss.backward()\n",
    "            policy.optim.step()\n",
    "            critic.optim.step()\n",
    "            \n",
    "            avg_loss += loss.detach()\n",
    "        # print(f'Epoch [{epoch}/{epochs}] Mean Loss {avg_loss/(int(N*T*percent))}')\n",
    "\n",
    "    n_iter, r = test_policy(env, policy, critic, 20)\n",
    "    graph_iter.append(n_iter)\n",
    "    graph_r.append(r)\n",
    "    print(f\"Iter[{iteration}/{iterations}]  n_iter mean : {n_iter} reward mean : {r}\")\n",
    "    if iteration != 0 and iteration%10:\n",
    "        policy.scheduler.step()\n",
    "        critic.scheduler.step()\n",
    "\n",
    "torch.save({\"model\":policy.reg.state_dict()}, \"model-ppo/from-paper/\"+env_name+\"_pol.pt\")\n",
    "torch.save({\"model\":critic.reg.state_dict()}, \"model-ppo/from-paper/\"+env_name+\"_critic.pt\")\n",
    "plt.figure()\n",
    "plt.plot(graph_iter)\n",
    "plt.plot(graph_r)\n",
    "plt.grid()\n",
    "plt.legend([\"iter\", \"reward\"])"
   ]
  },
  {
   "cell_type": "markdown",
   "metadata": {},
   "source": [
    "Evaluation des résultats"
   ]
  },
  {
   "cell_type": "code",
   "execution_count": 13,
   "metadata": {},
   "outputs": [
    {
     "name": "stdout",
     "output_type": "stream",
     "text": [
      "8.3 76.02782007315837\n"
     ]
    }
   ],
   "source": [
    "n_iter, r = test_policy(env, policy, critic, 20)\n",
    "print(n_iter, r)"
   ]
  },
  {
   "cell_type": "markdown",
   "metadata": {},
   "source": [
    "Même si le nombre de moyen de *steps* par épisodes n'augmente pas beaucoup, les  récompenses moyennes continue d'augmenter, le réseaux apprend bien quelque chose."
   ]
  },
  {
   "cell_type": "markdown",
   "metadata": {},
   "source": [
    "# [Comparaison avec le tutoriel de Pythorch](https://pytorch.org/rl/tutorials/coding_ppo.html)"
   ]
  },
  {
   "cell_type": "code",
   "execution_count": 1,
   "metadata": {},
   "outputs": [],
   "source": [
    "from collections import defaultdict\n",
    "\n",
    "import matplotlib.pyplot as plt\n",
    "import torch\n",
    "from tensordict.nn import TensorDictModule\n",
    "from tensordict.nn.distributions import NormalParamExtractor\n",
    "from torch import nn\n",
    "\n",
    "from torchrl.collectors import SyncDataCollector\n",
    "from torchrl.data.replay_buffers import ReplayBuffer\n",
    "from torchrl.data.replay_buffers.samplers import SamplerWithoutReplacement\n",
    "from torchrl.data.replay_buffers.storages import LazyTensorStorage\n",
    "from torchrl.envs import (\n",
    "    Compose,\n",
    "    DoubleToFloat,\n",
    "    ObservationNorm,\n",
    "    StepCounter,\n",
    "    TransformedEnv,\n",
    ")\n",
    "from torchrl.envs.libs.gym import GymEnv\n",
    "from torchrl.envs.utils import check_env_specs, ExplorationType, set_exploration_type\n",
    "from torchrl.modules import ProbabilisticActor, TanhNormal, ValueOperator\n",
    "from torchrl.objectives import ClipPPOLoss\n",
    "from torchrl.objectives.value import GAE\n",
    "from tqdm import tqdm"
   ]
  },
  {
   "cell_type": "markdown",
   "metadata": {},
   "source": [
    "## Define Hyperparameters"
   ]
  },
  {
   "cell_type": "code",
   "execution_count": 2,
   "metadata": {},
   "outputs": [
    {
     "name": "stderr",
     "output_type": "stream",
     "text": [
      "/tmp/ipykernel_2031437/501024724.py:1: UserWarning: 'has_cuda' is deprecated, please use 'torch.backends.cuda.is_built()'\n",
      "  device = \"cpu\" if not torch.has_cuda else \"cuda:0\"\n"
     ]
    }
   ],
   "source": [
    "device = \"cpu\" if not torch.has_cuda else \"cuda:0\"\n",
    "num_cells = 256  # number of cells in each layer i.e. output dim.\n",
    "lr = 3e-4\n",
    "max_grad_norm = 1.0"
   ]
  },
  {
   "cell_type": "markdown",
   "metadata": {},
   "source": [
    "## Data collection parameters"
   ]
  },
  {
   "cell_type": "code",
   "execution_count": 3,
   "metadata": {},
   "outputs": [],
   "source": [
    "frame_skip = 1\n",
    "frames_per_batch = 1000 // frame_skip\n",
    "# For a complete training, bring the number of frames up to 1M\n",
    "total_frames = 20_000 // frame_skip"
   ]
  },
  {
   "cell_type": "markdown",
   "metadata": {},
   "source": [
    "## PPO parameters"
   ]
  },
  {
   "cell_type": "code",
   "execution_count": 4,
   "metadata": {},
   "outputs": [],
   "source": [
    "sub_batch_size = 64  # cardinality of the sub-samples gathered from the current data in the inner loop\n",
    "num_epochs = 10  # optimisation steps per batch of data collected\n",
    "clip_epsilon = (\n",
    "    0.2  # clip value for PPO loss: see the equation in the intro for more context.\n",
    ")\n",
    "gamma = 0.99\n",
    "lmbda = 0.95\n",
    "entropy_eps = 1e-4"
   ]
  },
  {
   "cell_type": "markdown",
   "metadata": {},
   "source": [
    "## Define an environment"
   ]
  },
  {
   "cell_type": "code",
   "execution_count": 5,
   "metadata": {},
   "outputs": [
    {
     "name": "stderr",
     "output_type": "stream",
     "text": [
      "/home/etu/noiraula/PE/\u001b[D\u001b[C/lib/python3.11/site-packages/gymnasium/core.py:311: UserWarning: \u001b[33mWARN: env.num_envs to get variables from other wrappers is deprecated and will be removed in v1.0, to get this variable you can do `env.unwrapped.num_envs` for environment variables or `env.get_wrapper_attr('num_envs')` that will search the reminding wrappers.\u001b[0m\n",
      "  logger.warn(\n",
      "/home/etu/noiraula/PE/\u001b[D\u001b[C/lib/python3.11/site-packages/gymnasium/core.py:311: UserWarning: \u001b[33mWARN: env.reward_space to get variables from other wrappers is deprecated and will be removed in v1.0, to get this variable you can do `env.unwrapped.reward_space` for environment variables or `env.get_wrapper_attr('reward_space')` that will search the reminding wrappers.\u001b[0m\n",
      "  logger.warn(\n"
     ]
    }
   ],
   "source": [
    "base_env = GymEnv(\"InvertedDoublePendulum-v4\", device=device, frame_skip=frame_skip)"
   ]
  },
  {
   "cell_type": "markdown",
   "metadata": {},
   "source": [
    "## Normalisation"
   ]
  },
  {
   "cell_type": "code",
   "execution_count": 6,
   "metadata": {},
   "outputs": [],
   "source": [
    "env = TransformedEnv(\n",
    "    base_env,\n",
    "    Compose(\n",
    "        # normalize observations\n",
    "        ObservationNorm(in_keys=[\"observation\"]),\n",
    "        DoubleToFloat(\n",
    "            in_keys=[\"observation\"],\n",
    "        ),\n",
    "        StepCounter(),\n",
    "    ),\n",
    ")"
   ]
  },
  {
   "cell_type": "code",
   "execution_count": 7,
   "metadata": {},
   "outputs": [],
   "source": [
    "env.transform[0].init_stats(num_iter=1000, reduce_dim=0, cat_dim=0)"
   ]
  },
  {
   "cell_type": "code",
   "execution_count": 8,
   "metadata": {},
   "outputs": [
    {
     "name": "stdout",
     "output_type": "stream",
     "text": [
      "normalization constant shape: torch.Size([11])\n"
     ]
    }
   ],
   "source": [
    "print(\"normalization constant shape:\", env.transform[0].loc.shape)"
   ]
  },
  {
   "cell_type": "code",
   "execution_count": 9,
   "metadata": {},
   "outputs": [
    {
     "name": "stdout",
     "output_type": "stream",
     "text": [
      "observation_spec: CompositeSpec(\n",
      "    observation: UnboundedContinuousTensorSpec(\n",
      "        shape=torch.Size([11]),\n",
      "        space=None,\n",
      "        device=cuda:0,\n",
      "        dtype=torch.float32,\n",
      "        domain=continuous),\n",
      "    step_count: BoundedTensorSpec(\n",
      "        shape=torch.Size([1]),\n",
      "        space=ContinuousBox(\n",
      "            low=Tensor(shape=torch.Size([1]), device=cuda:0, dtype=torch.int64, contiguous=True),\n",
      "            high=Tensor(shape=torch.Size([1]), device=cuda:0, dtype=torch.int64, contiguous=True)),\n",
      "        device=cuda:0,\n",
      "        dtype=torch.int64,\n",
      "        domain=continuous), device=cuda:0, shape=torch.Size([]))\n",
      "reward_spec: UnboundedContinuousTensorSpec(\n",
      "    shape=torch.Size([1]),\n",
      "    space=ContinuousBox(\n",
      "        low=Tensor(shape=torch.Size([1]), device=cuda:0, dtype=torch.float32, contiguous=True),\n",
      "        high=Tensor(shape=torch.Size([1]), device=cuda:0, dtype=torch.float32, contiguous=True)),\n",
      "    device=cuda:0,\n",
      "    dtype=torch.float32,\n",
      "    domain=continuous)\n",
      "done_spec: CompositeSpec(\n",
      "    done: DiscreteTensorSpec(\n",
      "        shape=torch.Size([1]),\n",
      "        space=DiscreteBox(n=2),\n",
      "        device=cuda:0,\n",
      "        dtype=torch.bool,\n",
      "        domain=discrete),\n",
      "    terminated: DiscreteTensorSpec(\n",
      "        shape=torch.Size([1]),\n",
      "        space=DiscreteBox(n=2),\n",
      "        device=cuda:0,\n",
      "        dtype=torch.bool,\n",
      "        domain=discrete),\n",
      "    truncated: DiscreteTensorSpec(\n",
      "        shape=torch.Size([1]),\n",
      "        space=DiscreteBox(n=2),\n",
      "        device=cuda:0,\n",
      "        dtype=torch.bool,\n",
      "        domain=discrete), device=cuda:0, shape=torch.Size([]))\n",
      "action_spec: BoundedTensorSpec(\n",
      "    shape=torch.Size([1]),\n",
      "    space=ContinuousBox(\n",
      "        low=Tensor(shape=torch.Size([1]), device=cuda:0, dtype=torch.float32, contiguous=True),\n",
      "        high=Tensor(shape=torch.Size([1]), device=cuda:0, dtype=torch.float32, contiguous=True)),\n",
      "    device=cuda:0,\n",
      "    dtype=torch.float32,\n",
      "    domain=continuous)\n",
      "state_spec: CompositeSpec(\n",
      "    step_count: BoundedTensorSpec(\n",
      "        shape=torch.Size([1]),\n",
      "        space=ContinuousBox(\n",
      "            low=Tensor(shape=torch.Size([1]), device=cuda:0, dtype=torch.int64, contiguous=True),\n",
      "            high=Tensor(shape=torch.Size([1]), device=cuda:0, dtype=torch.int64, contiguous=True)),\n",
      "        device=cuda:0,\n",
      "        dtype=torch.int64,\n",
      "        domain=continuous), device=cuda:0, shape=torch.Size([]))\n"
     ]
    }
   ],
   "source": [
    "print(\"observation_spec:\", env.observation_spec)\n",
    "print(\"reward_spec:\", env.reward_spec)\n",
    "print(\"done_spec:\", env.done_spec)\n",
    "print(\"action_spec:\", env.action_spec)\n",
    "print(\"state_spec:\", env.state_spec)"
   ]
  },
  {
   "cell_type": "code",
   "execution_count": 10,
   "metadata": {},
   "outputs": [
    {
     "name": "stdout",
     "output_type": "stream",
     "text": [
      "rollout of three steps: TensorDict(\n",
      "    fields={\n",
      "        action: Tensor(shape=torch.Size([3, 1]), device=cuda:0, dtype=torch.float32, is_shared=True),\n",
      "        done: Tensor(shape=torch.Size([3, 1]), device=cuda:0, dtype=torch.bool, is_shared=True),\n",
      "        next: TensorDict(\n",
      "            fields={\n",
      "                done: Tensor(shape=torch.Size([3, 1]), device=cuda:0, dtype=torch.bool, is_shared=True),\n",
      "                observation: Tensor(shape=torch.Size([3, 11]), device=cuda:0, dtype=torch.float32, is_shared=True),\n",
      "                reward: Tensor(shape=torch.Size([3, 1]), device=cuda:0, dtype=torch.float32, is_shared=True),\n",
      "                step_count: Tensor(shape=torch.Size([3, 1]), device=cuda:0, dtype=torch.int64, is_shared=True),\n",
      "                terminated: Tensor(shape=torch.Size([3, 1]), device=cuda:0, dtype=torch.bool, is_shared=True),\n",
      "                truncated: Tensor(shape=torch.Size([3, 1]), device=cuda:0, dtype=torch.bool, is_shared=True)},\n",
      "            batch_size=torch.Size([3]),\n",
      "            device=cuda:0,\n",
      "            is_shared=True),\n",
      "        observation: Tensor(shape=torch.Size([3, 11]), device=cuda:0, dtype=torch.float32, is_shared=True),\n",
      "        step_count: Tensor(shape=torch.Size([3, 1]), device=cuda:0, dtype=torch.int64, is_shared=True),\n",
      "        terminated: Tensor(shape=torch.Size([3, 1]), device=cuda:0, dtype=torch.bool, is_shared=True),\n",
      "        truncated: Tensor(shape=torch.Size([3, 1]), device=cuda:0, dtype=torch.bool, is_shared=True)},\n",
      "    batch_size=torch.Size([3]),\n",
      "    device=cuda:0,\n",
      "    is_shared=True)\n",
      "Shape of the rollout TensorDict: torch.Size([3])\n"
     ]
    }
   ],
   "source": [
    "rollout = env.rollout(3)\n",
    "print(\"rollout of three steps:\", rollout)\n",
    "print(\"Shape of the rollout TensorDict:\", rollout.batch_size)"
   ]
  },
  {
   "cell_type": "markdown",
   "metadata": {},
   "source": [
    "## Policy"
   ]
  },
  {
   "cell_type": "code",
   "execution_count": 11,
   "metadata": {},
   "outputs": [
    {
     "name": "stderr",
     "output_type": "stream",
     "text": [
      "/home/etu/noiraula/PE/\u001b[D\u001b[C/lib/python3.11/site-packages/torch/nn/modules/lazy.py:180: UserWarning: Lazy modules are a new feature under heavy development so changes to the API or functionality can happen at any moment.\n",
      "  warnings.warn('Lazy modules are a new feature under heavy development '\n"
     ]
    }
   ],
   "source": [
    "actor_net = nn.Sequential(\n",
    "    nn.LazyLinear(num_cells, device=device),\n",
    "    nn.Tanh(),\n",
    "    nn.LazyLinear(num_cells, device=device),\n",
    "    nn.Tanh(),\n",
    "    nn.LazyLinear(num_cells, device=device),\n",
    "    nn.Tanh(),\n",
    "    nn.LazyLinear(2 * env.action_spec.shape[-1], device=device),\n",
    "    NormalParamExtractor(),\n",
    ")"
   ]
  },
  {
   "cell_type": "code",
   "execution_count": 12,
   "metadata": {},
   "outputs": [],
   "source": [
    "policy_module = TensorDictModule(\n",
    "    actor_net, in_keys=[\"observation\"], out_keys=[\"loc\", \"scale\"]\n",
    ")"
   ]
  },
  {
   "cell_type": "code",
   "execution_count": 13,
   "metadata": {},
   "outputs": [],
   "source": [
    "policy_module = ProbabilisticActor(\n",
    "    module=policy_module,\n",
    "    spec=env.action_spec,\n",
    "    in_keys=[\"loc\", \"scale\"],\n",
    "    distribution_class=TanhNormal,\n",
    "    distribution_kwargs={\n",
    "        \"min\": env.action_spec.space.minimum,\n",
    "        \"max\": env.action_spec.space.maximum,\n",
    "    },\n",
    "    return_log_prob=True,\n",
    "    # we'll need the log-prob for the numerator of the importance weights\n",
    ")"
   ]
  },
  {
   "cell_type": "markdown",
   "metadata": {},
   "source": [
    "## Value network"
   ]
  },
  {
   "cell_type": "code",
   "execution_count": 14,
   "metadata": {},
   "outputs": [],
   "source": [
    "value_net = nn.Sequential(\n",
    "    nn.LazyLinear(num_cells, device=device),\n",
    "    nn.Tanh(),\n",
    "    nn.LazyLinear(num_cells, device=device),\n",
    "    nn.Tanh(),\n",
    "    nn.LazyLinear(num_cells, device=device),\n",
    "    nn.Tanh(),\n",
    "    nn.LazyLinear(1, device=device),\n",
    ")\n",
    "\n",
    "value_module = ValueOperator(\n",
    "    module=value_net,\n",
    "    in_keys=[\"observation\"],\n",
    ")"
   ]
  },
  {
   "cell_type": "code",
   "execution_count": 15,
   "metadata": {},
   "outputs": [
    {
     "name": "stdout",
     "output_type": "stream",
     "text": [
      "Running policy: TensorDict(\n",
      "    fields={\n",
      "        action: Tensor(shape=torch.Size([1]), device=cuda:0, dtype=torch.float32, is_shared=True),\n",
      "        done: Tensor(shape=torch.Size([1]), device=cuda:0, dtype=torch.bool, is_shared=True),\n",
      "        loc: Tensor(shape=torch.Size([1]), device=cuda:0, dtype=torch.float32, is_shared=True),\n",
      "        observation: Tensor(shape=torch.Size([11]), device=cuda:0, dtype=torch.float32, is_shared=True),\n",
      "        sample_log_prob: Tensor(shape=torch.Size([]), device=cuda:0, dtype=torch.float32, is_shared=True),\n",
      "        scale: Tensor(shape=torch.Size([1]), device=cuda:0, dtype=torch.float32, is_shared=True),\n",
      "        step_count: Tensor(shape=torch.Size([1]), device=cuda:0, dtype=torch.int64, is_shared=True),\n",
      "        terminated: Tensor(shape=torch.Size([1]), device=cuda:0, dtype=torch.bool, is_shared=True),\n",
      "        truncated: Tensor(shape=torch.Size([1]), device=cuda:0, dtype=torch.bool, is_shared=True)},\n",
      "    batch_size=torch.Size([]),\n",
      "    device=cuda:0,\n",
      "    is_shared=True)\n",
      "Running value: TensorDict(\n",
      "    fields={\n",
      "        done: Tensor(shape=torch.Size([1]), device=cuda:0, dtype=torch.bool, is_shared=True),\n",
      "        observation: Tensor(shape=torch.Size([11]), device=cuda:0, dtype=torch.float32, is_shared=True),\n",
      "        state_value: Tensor(shape=torch.Size([1]), device=cuda:0, dtype=torch.float32, is_shared=True),\n",
      "        step_count: Tensor(shape=torch.Size([1]), device=cuda:0, dtype=torch.int64, is_shared=True),\n",
      "        terminated: Tensor(shape=torch.Size([1]), device=cuda:0, dtype=torch.bool, is_shared=True),\n",
      "        truncated: Tensor(shape=torch.Size([1]), device=cuda:0, dtype=torch.bool, is_shared=True)},\n",
      "    batch_size=torch.Size([]),\n",
      "    device=cuda:0,\n",
      "    is_shared=True)\n"
     ]
    }
   ],
   "source": [
    "print(\"Running policy:\", policy_module(env.reset()))\n",
    "print(\"Running value:\", value_module(env.reset()))"
   ]
  },
  {
   "cell_type": "markdown",
   "metadata": {},
   "source": [
    "## Data collector"
   ]
  },
  {
   "cell_type": "code",
   "execution_count": 16,
   "metadata": {},
   "outputs": [],
   "source": [
    "collector = SyncDataCollector(\n",
    "    env,\n",
    "    policy_module,\n",
    "    frames_per_batch=frames_per_batch,\n",
    "    total_frames=total_frames,\n",
    "    split_trajs=False,\n",
    "    device=device,\n",
    ")"
   ]
  },
  {
   "cell_type": "markdown",
   "metadata": {},
   "source": [
    "## Replay buffer"
   ]
  },
  {
   "cell_type": "code",
   "execution_count": 17,
   "metadata": {},
   "outputs": [],
   "source": [
    "replay_buffer = ReplayBuffer(\n",
    "    storage=LazyTensorStorage(frames_per_batch),\n",
    "    sampler=SamplerWithoutReplacement(),\n",
    ")"
   ]
  },
  {
   "cell_type": "markdown",
   "metadata": {},
   "source": [
    "## Loss function"
   ]
  },
  {
   "cell_type": "code",
   "execution_count": 18,
   "metadata": {},
   "outputs": [],
   "source": [
    "advantage_module = GAE(\n",
    "    gamma=gamma, lmbda=lmbda, value_network=value_module, average_gae=True\n",
    ")\n",
    "\n",
    "loss_module = ClipPPOLoss(\n",
    "    actor=policy_module,\n",
    "    critic=value_module,\n",
    "    clip_epsilon=clip_epsilon,\n",
    "    entropy_bonus=bool(entropy_eps),\n",
    "    entropy_coef=entropy_eps,\n",
    "    # these keys match by default but we set this for completeness\n",
    "    value_target_key=advantage_module.value_target_key,\n",
    "    critic_coef=1.0,\n",
    "    gamma=0.99,\n",
    "    loss_critic_type=\"smooth_l1\",\n",
    ")\n",
    "\n",
    "optim = torch.optim.Adam(loss_module.parameters(), lr)\n",
    "scheduler = torch.optim.lr_scheduler.CosineAnnealingLR(\n",
    "    optim, total_frames // frames_per_batch, 0.0\n",
    ")"
   ]
  },
  {
   "cell_type": "markdown",
   "metadata": {},
   "source": [
    "## Training loop"
   ]
  },
  {
   "cell_type": "code",
   "execution_count": 19,
   "metadata": {},
   "outputs": [
    {
     "name": "stderr",
     "output_type": "stream",
     "text": [
      "  0%|          | 0/20000 [00:00<?, ?it/s]"
     ]
    },
    {
     "name": "stderr",
     "output_type": "stream",
     "text": [
      "eval cumulative reward:  249.5341 (init:  92.3797), eval step-count: 26, average reward= 9.2845 (init= 9.0848), step count (max): 58, lr policy:  0.0000: 100%|██████████| 20000/20000 [04:07<00:00, 80.84it/s]"
     ]
    }
   ],
   "source": [
    "logs = defaultdict(list)\n",
    "pbar = tqdm(total=total_frames * frame_skip)\n",
    "eval_str = \"\"\n",
    "\n",
    "# We iterate over the collector until it reaches the total number of frames it was\n",
    "# designed to collect:\n",
    "for i, tensordict_data in enumerate(collector):\n",
    "    # we now have a batch of data to work with. Let's learn something from it.\n",
    "    for _ in range(num_epochs):\n",
    "        # We'll need an \"advantage\" signal to make PPO work.\n",
    "        # We re-compute it at each epoch as its value depends on the value\n",
    "        # network which is updated in the inner loop.\n",
    "        with torch.no_grad():\n",
    "            advantage_module(tensordict_data)\n",
    "        data_view = tensordict_data.reshape(-1)\n",
    "        replay_buffer.extend(data_view.cpu())\n",
    "        for _ in range(frames_per_batch // sub_batch_size):\n",
    "            subdata = replay_buffer.sample(sub_batch_size)\n",
    "            loss_vals = loss_module(subdata.to(device))\n",
    "            loss_value = (\n",
    "                loss_vals[\"loss_objective\"]\n",
    "                + loss_vals[\"loss_critic\"]\n",
    "                + loss_vals[\"loss_entropy\"]\n",
    "            )\n",
    "\n",
    "            # Optimization: backward, grad clipping and optim step\n",
    "            loss_value.backward()\n",
    "            # this is not strictly mandatory but it's good practice to keep\n",
    "            # your gradient norm bounded\n",
    "            torch.nn.utils.clip_grad_norm_(loss_module.parameters(), max_grad_norm)\n",
    "            optim.step()\n",
    "            optim.zero_grad()\n",
    "\n",
    "    logs[\"reward\"].append(tensordict_data[\"next\", \"reward\"].mean().item())\n",
    "    pbar.update(tensordict_data.numel() * frame_skip)\n",
    "    cum_reward_str = (\n",
    "        f\"average reward={logs['reward'][-1]: 4.4f} (init={logs['reward'][0]: 4.4f})\"\n",
    "    )\n",
    "    logs[\"step_count\"].append(tensordict_data[\"step_count\"].max().item())\n",
    "    stepcount_str = f\"step count (max): {logs['step_count'][-1]}\"\n",
    "    logs[\"lr\"].append(optim.param_groups[0][\"lr\"])\n",
    "    lr_str = f\"lr policy: {logs['lr'][-1]: 4.4f}\"\n",
    "    if i % 10 == 0:\n",
    "        # We evaluate the policy once every 10 batches of data.\n",
    "        # Evaluation is rather simple: execute the policy without exploration\n",
    "        # (take the expected value of the action distribution) for a given\n",
    "        # number of steps (1000, which is our env horizon).\n",
    "        # The ``rollout`` method of the env can take a policy as argument:\n",
    "        # it will then execute this policy at each step.\n",
    "        with set_exploration_type(ExplorationType.MEAN), torch.no_grad():\n",
    "            # execute a rollout with the trained policy\n",
    "            eval_rollout = env.rollout(1000, policy_module)\n",
    "            logs[\"eval reward\"].append(eval_rollout[\"next\", \"reward\"].mean().item())\n",
    "            logs[\"eval reward (sum)\"].append(\n",
    "                eval_rollout[\"next\", \"reward\"].sum().item()\n",
    "            )\n",
    "            logs[\"eval step_count\"].append(eval_rollout[\"step_count\"].max().item())\n",
    "            eval_str = (\n",
    "                f\"eval cumulative reward: {logs['eval reward (sum)'][-1]: 4.4f} \"\n",
    "                f\"(init: {logs['eval reward (sum)'][0]: 4.4f}), \"\n",
    "                f\"eval step-count: {logs['eval step_count'][-1]}\"\n",
    "            )\n",
    "            del eval_rollout\n",
    "    pbar.set_description(\", \".join([eval_str, cum_reward_str, stepcount_str, lr_str]))\n",
    "\n",
    "    # We're also using a learning rate scheduler. Like the gradient clipping,\n",
    "    # this is a nice-to-have but nothing necessary for PPO to work.\n",
    "    scheduler.step()"
   ]
  },
  {
   "cell_type": "markdown",
   "metadata": {},
   "source": [
    "## Result"
   ]
  },
  {
   "cell_type": "code",
   "execution_count": 20,
   "metadata": {},
   "outputs": [
    {
     "data": {
      "image/png": "[encoded data removed]",
      "text/plain": [
       "<Figure size 1000x1000 with 4 Axes>"
      ]
     },
     "metadata": {},
     "output_type": "display_data"
    },
    {
     "name": "stderr",
     "output_type": "stream",
     "text": [
      "eval cumulative reward:  249.5341 (init:  92.3797), eval step-count: 26, average reward= 9.2845 (init= 9.0848), step count (max): 58, lr policy:  0.0000: 100%|██████████| 20000/20000 [04:20<00:00, 80.84it/s]"
     ]
    }
   ],
   "source": [
    "plt.figure(figsize=(10, 10))\n",
    "plt.subplot(2, 2, 1)\n",
    "plt.plot(logs[\"reward\"])\n",
    "plt.title(\"training rewards (average)\")\n",
    "plt.subplot(2, 2, 2)\n",
    "plt.plot(logs[\"step_count\"])\n",
    "plt.title(\"Max step count (training)\")\n",
    "plt.subplot(2, 2, 3)\n",
    "plt.plot(logs[\"eval reward (sum)\"])\n",
    "plt.title(\"Return (test)\")\n",
    "plt.subplot(2, 2, 4)\n",
    "plt.plot(logs[\"eval step_count\"])\n",
    "plt.title(\"Max step count (test)\")\n",
    "plt.show()"
   ]
  },
  {
   "cell_type": "markdown",
   "metadata": {},
   "source": [
    "# Conclusion\n",
    "\n",
    "L'implémentation originale fonctionne globalement moin bien que la version proposé par Pytorch. La version de Pytorch fonctionne extrement bien pour le simple pendule (voir `image/torch-simple_pendulum.png`), le nombre de *step* atteint est proche de 1000 ce qui est proche du maximal prévu par l'envronnement. Le double pendule fonctionne beaucoup moin bien, même si la récompense continue d'augmenter pour atteindre les 90, le nombre de *step* atteint est d'environ 20 (voir `image/torch-double_pendulum.png`) ce qui à peinne plus que l'implémentation précédente (voir `image/paper-double_pendulum.png`)\n",
    "\n",
    "\n",
    "Les pauvres résultats de la première implémentation sont relativement décevant, ils sont moins bons que ceux obtenue avec REINFORCE alors que PPO est cencé être une version amélioré de cette algorithme. Ces résultats peuvent être due à plusieurs facteurs, de mauvais hyper-paramètres."
   ]
  }
 ],
 "metadata": {
  "kernelspec": {
   "display_name": "base",
   "language": "python",
   "name": "python3"
  },
  "language_info": {
   "codemirror_mode": {
    "name": "ipython",
    "version": 3
   },
   "file_extension": ".py",
   "mimetype": "text/x-python",
   "name": "python",
   "nbconvert_exporter": "python",
   "pygments_lexer": "ipython3",
   "version": "3.11.4"
  }
 },
 "nbformat": 4,
 "nbformat_minor": 2
}
